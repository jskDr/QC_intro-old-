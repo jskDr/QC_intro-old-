{
 "cells": [
  {
   "cell_type": "markdown",
   "metadata": {
    "code_folding": []
   },
   "source": [
    "# Practical intro to Quantum Chemistry\n",
    "\n",
    "## with Orca!\n",
    "\n",
    "[![](images/orca.png)](https://orcaforum.cec.mpg.de/)\n"
   ]
  },
  {
   "cell_type": "markdown",
   "metadata": {},
   "source": [
    "### Requirements / Bare-bones:\n",
    "\n",
    "* [**Orca 3.0.3**](https://orcaforum.cec.mpg.de/).\n",
    "* Python 2 or 3, with [Ipython/Jupyter](https://jupyter.org/) notebook abilities. \n",
    "* Python modules: *matplotlib, imolecule, openbabel*.\n",
    "\n",
    "### Recomended / Good stuff to check out\n",
    " \n",
    "* [**Orca Manual**](https://orcaforum.cec.mpg.de/OrcaManual.pdf).\n",
    "* [**Orca Input Library**](https://sites.google.com/site/orcainputlibrary/).\n",
    "* A sweet sweet text editor, I suggest [**Sublime Text**](http://www.sublimetext.com/).\n",
    "* Molecular visualizer, [**Avogadro**](http://avogadro.cc/wiki/Main_Page) is good and easy and [**VMD**](http://www.ks.uiuc.edu/Research/vmd/) is powerful.\n",
    "\n",
    "## Quantum Chemistry\n",
    "\n",
    "Quantum chemistry is a mix of physics, chemistry, and applied mathematics and computation.\n",
    "\n",
    "In Quantum Chemistry try to solve either the time-independent Schrödinger equation (stationary states)\n",
    "to get molecular properties:\n",
    "$$\n",
    "H | \\psi \\rangle = E | \\psi \\rangle,\n",
    "$$\n",
    "or time-dependent:\n",
    "$$\n",
    "i\\hbar \\frac{\\partial \\Psi}{\\partial t} = -\\frac{\\hbar^2}{2m}\n",
    "\\frac{\\partial^2 \\Psi}{\\partial x^2} + V \\Psi\n",
    "$$\n",
    "\n",
    "Relevant quotes:\n",
    "\n",
    "> “We can calculate everything\"\n",
    "> - Enrico Clementi\n"
   ]
  },
  {
   "cell_type": "markdown",
   "metadata": {},
   "source": [
    "## Input files\n",
    "\n",
    "Almost all quantum chemistry packages work with input files, which are text files with a few key words that indicate which model we will use for a calculation.\n",
    "\n",
    "Here is an example input file\n"
   ]
  },
  {
   "cell_type": "code",
   "execution_count": 1,
   "metadata": {
    "collapsed": false
   },
   "outputs": [
    {
     "name": "stdout",
     "output_type": "stream",
     "text": [
      "! DFT cc-pVDZ\r\n",
      "\r\n",
      "*xyzfile 0 1 mol.xyz\r\n",
      "\r\n"
     ]
    }
   ],
   "source": [
    "!head input.inp"
   ]
  },
  {
   "cell_type": "markdown",
   "metadata": {},
   "source": [
    "### Some questions that arise when doing calculations:\n",
    "\n",
    "* What software should I use?\n",
    "* Is my algorithm parallelized?\n",
    "* Which geometry?\n",
    "* Which methodology should I use?\n",
    "* DFT or Wavefunction methods? or Quantum Monte Carlo?\n",
    "* Open or Closed Shell?\n",
    "* Multireference wavefunction?\n",
    "* How accurate and how much can I trust my calculations?\n",
    "* How do I treat a solvated molecule? Which solvation model?\n",
    "* Do I need to incorporate dispersion effects?\n",
    "* Which basis set should I use?\n",
    "* Polarization, Diffusion functions?\n",
    "* Spin coupling effects?\n",
    "\n",
    "Most decisions are coupled so you really can't test each independently.\n",
    "\n",
    "Like a fellow quantum chemist said, sometimes you just got to do science and just marry whichever of what works best for you!\n",
    "\n",
    "## The Quantum Chemistry Panorama (stationary)\n",
    "### So what does this all mean?\n",
    "![](images/overview.png)\n",
    "\n",
    "#### The main problem is treating electron-electron interactions.\n",
    "\n",
    "### To summarize:\n",
    "\n",
    "* **DFT:** Based on charge density, a physical measurable, pretty cheap $\\mathcal{O}(n^3)-\\mathcal{O}(n^4)$ and accurate, not 100% reliable. You have to decide on a functional and a basis set. Also **the Hohenberg-Kohn theorems** state that any molecular property can be derived from the charge density and there exists a universal functional which will solve all your problems.\n",
    "* **Wavefunction:** Pretty expensive $\\mathcal{O}(n^3)-\\mathcal{O}(n!)$, but reliable and there is a clear idea of how to systematically improve your solution and to arrive to the exact theoretical limit. Sometimes you can \n",
    "\n",
    "* **Semi-empirical:** Relies on force fields, parameterizations, model-fitting and other neat tricks to get cheap and semi accurate results for a fraction of the cost. \n"
   ]
  },
  {
   "cell_type": "markdown",
   "metadata": {},
   "source": [
    "## First is First\n",
    "### Choose you favorite molecule!*\n",
    "#### * of 10 electrons or less\n",
    "\n",
    "### XYZ geometry files\n",
    "Contains basic 3d coordinates of a molecule\n",
    "\n",
    "1. Number of atoms\n",
    "2. Comment line, can be whatever\n",
    "3. Atom # 1, Element X Y Z\n",
    "\n",
    "... follow till N atoms\n",
    "\n",
    "**Now** make a xyz file, name it **mol.xyz**, you will use this molecule for your exploration"
   ]
  },
  {
   "cell_type": "code",
   "execution_count": 4,
   "metadata": {
    "collapsed": false
   },
   "outputs": [
    {
     "name": "stdout",
     "output_type": "stream",
     "text": [
      "3\r\n",
      "Water Molecule!\r\n",
      "H          0.63109       -0.02651        0.47485\r\n",
      "O          0.14793        0.02998       -0.34219\r\n",
      "H         -0.77901       -0.00348       -0.13266"
     ]
    }
   ],
   "source": [
    "!head mol.xyz"
   ]
  },
  {
   "cell_type": "code",
   "execution_count": 5,
   "metadata": {
    "collapsed": false
   },
   "outputs": [
    {
     "data": {
      "text/html": [
       "<div id=\"molecule_c932c543-187a-4bf5-9a3c-b53625e2020a\"></div>\n",
       "           <script type=\"text/javascript\">\n",
       "           require.config({baseUrl: \"/\",\n",
       "                             paths: {imolecule: ['nbextensions/imolecule.min', 'https://rawgit.com/patrickfuller/imolecule/master/js/build/imolecule.min']}});\n",
       "           require(['imolecule'], function () {\n",
       "               var $d = $('#molecule_c932c543-187a-4bf5-9a3c-b53625e2020a');\n",
       "               $d.width(400); $d.height(300);\n",
       "               $d.imolecule = jQuery.extend({}, imolecule);\n",
       "               $d.imolecule.create($d, {drawingType: 'ball and stick',\n",
       "                                        cameraType: 'perspective',\n",
       "                                        shader: 'lambert'});\n",
       "               $d.imolecule.draw({\"atoms\":[{\"charge\":0.205233,\"element\":\"H\",\"location\":[0.631087,-0.026507,0.474850]},{\"charge\":-0.410466,\"element\":\"O\",\"location\":[0.147927,0.029983,-0.342190]},{\"charge\":0.205233,\"element\":\"H\",\"location\":[-0.779013,-0.003477,-0.132660]}],\"bonds\":[{\"atoms\":[1,2],\"order\":1},{\"atoms\":[1,0],\"order\":1}],\"formula\":\"H2O\",\"molecular_weight\":18.015280,\"units\":{\"molecular_weight\":\"g / mol\"}});\n",
       "\n",
       "               $d.resizable({\n",
       "                   aspectRatio: 400 / 300,\n",
       "                   resize: function (evt, ui) {\n",
       "                       $d.imolecule.renderer.setSize(ui.size.width,\n",
       "                                                     ui.size.height);\n",
       "                   }\n",
       "               });\n",
       "           });\n",
       "           </script>"
      ],
      "text/plain": [
       "<IPython.core.display.HTML object>"
      ]
     },
     "metadata": {},
     "output_type": "display_data"
    }
   ],
   "source": [
    "import imolecule\n",
    "imolecule.draw(\"mol.xyz\")"
   ]
  },
  {
   "cell_type": "markdown",
   "metadata": {},
   "source": [
    "## Run a calculation\n",
    "Assuming you installed Orca correctly, you can run your calculations as show below via the command:\n",
    "```bash\n",
    "orca inputfile > outputfile\n",
    "```\n",
    "should take only a few seconds.."
   ]
  },
  {
   "cell_type": "code",
   "execution_count": 14,
   "metadata": {
    "code_folding": [],
    "collapsed": false,
    "scrolled": true
   },
   "outputs": [],
   "source": [
    "!orca input.inp > output.out"
   ]
  },
  {
   "cell_type": "markdown",
   "metadata": {},
   "source": [
    "let's check out our output file"
   ]
  },
  {
   "cell_type": "code",
   "execution_count": 15,
   "metadata": {
    "collapsed": false
   },
   "outputs": [
    {
     "name": "stdout",
     "output_type": "stream",
     "text": [
      "         implemented in ORCA!\r\n",
      "For a nonlinear molecule the correct rotational entropy is:\r\n",
      "    S(rot) = R*(ln(qrot/sn)+1.5)\r\n",
      "    R    = 8.31441 J/mol/K = 1.987191683e-3 kcal/mol/K\r\n",
      "    qrot =   91.7685093\r\n",
      "    sn is the rotational symmetry number. We have assumed 3 here\r\n",
      "       if it is different for your molecule then you should correct\r\n",
      "       the printed rotational entropy by manually evaluating the equation\r\n",
      "       as given above\r\n",
      "\r\n",
      "For convenience we print out the resulting values for sn=1 - 12:\r\n",
      " sn= 1  qrot/sn=      91.7685 T*S(rot)=     3.57 kcal/mol T*S(tot)=    13.89 kcal/mol\r\n",
      " sn= 2  qrot/sn=      45.8843 T*S(rot)=     3.16 kcal/mol T*S(tot)=    13.48 kcal/mol\r\n",
      " sn= 3  qrot/sn=      30.5895 T*S(rot)=     2.92 kcal/mol T*S(tot)=    13.24 kcal/mol\r\n",
      " sn= 4  qrot/sn=      22.9421 T*S(rot)=     2.74 kcal/mol T*S(tot)=    13.07 kcal/mol\r\n",
      " sn= 5  qrot/sn=      18.3537 T*S(rot)=     2.61 kcal/mol T*S(tot)=    12.93 kcal/mol\r\n",
      " sn= 6  qrot/sn=      15.2948 T*S(rot)=     2.50 kcal/mol T*S(tot)=    12.83 kcal/mol\r\n",
      " sn= 7  qrot/sn=      13.1098 T*S(rot)=     2.41 kcal/mol T*S(tot)=    12.73 kcal/mol\r\n",
      " sn= 8  qrot/sn=      11.4711 T*S(rot)=     2.33 kcal/mol T*S(tot)=    12.66 kcal/mol\r\n",
      " sn= 9  qrot/sn=      10.1965 T*S(rot)=     2.26 kcal/mol T*S(tot)=    12.59 kcal/mol\r\n",
      " sn=10  qrot/sn=       9.1769 T*S(rot)=     2.20 kcal/mol T*S(tot)=    12.52 kcal/mol\r\n",
      " sn=11  qrot/sn=       8.3426 T*S(rot)=     2.15 kcal/mol T*S(tot)=    12.47 kcal/mol\r\n",
      " sn=12  qrot/sn=       7.6474 T*S(rot)=     2.09 kcal/mol T*S(tot)=    12.42 kcal/mol\r\n",
      "\r\n",
      "\r\n",
      "-------------------\r\n",
      "GIBBS FREE ENTHALPY\r\n",
      "-------------------\r\n",
      "\r\n",
      "The Gibbs free enthalpy is G = H - T*S\r\n",
      "\r\n",
      "Total enthalpy                    ...    -75.75325062 Eh \r\n",
      "Total entropy correction          ...     -0.02109408 Eh    -13.24 kcal/mol\r\n",
      "-----------------------------------------------------------------------\r\n",
      "Final Gibbs free enthalpy         ...    -75.77434470 Eh\r\n",
      "\r\n",
      "For completeness - the Gibbs free enthalpy minus the electronic energy\r\n",
      "G-E(el)                           ...      0.00280341 Eh      1.76 kcal/mol\r\n",
      "\r\n",
      "\r\n",
      "Timings for individual modules:\r\n",
      "\r\n",
      "Sum of individual times         ...        6.580 sec (=   0.110 min)\r\n",
      "GTO integral calculation        ...        0.618 sec (=   0.010 min)   9.4 %\r\n",
      "SCF iterations                  ...        3.615 sec (=   0.060 min)  54.9 %\r\n",
      "SCF Gradient evaluation         ...        0.645 sec (=   0.011 min)   9.8 %\r\n",
      "Geometry relaxation             ...        0.041 sec (=   0.001 min)   0.6 %\r\n",
      "Analytical frequency calculation...        1.661 sec (=   0.028 min)  25.2 %\r\n",
      "                             ****ORCA TERMINATED NORMALLY****\r\n",
      "TOTAL RUN TIME: 0 days 0 hours 0 minutes 6 seconds 685 msec\r\n"
     ]
    }
   ],
   "source": [
    "!tail -50 output.out"
   ]
  },
  {
   "cell_type": "markdown",
   "metadata": {},
   "source": [
    "Output files are large, so we normally use the magic of programming to extract the information:\n",
    "#### Grep\n",
    "Via command line you can use [**grep**](http://www.tecmint.com/12-practical-examples-of-linux-grep-command/) (globally search a regular expression and print), you use like this:\n",
    "```shell\n",
    "grep string file\n",
    "```\n",
    "Care about energy?"
   ]
  },
  {
   "cell_type": "code",
   "execution_count": 16,
   "metadata": {
    "collapsed": false
   },
   "outputs": [
    {
     "name": "stdout",
     "output_type": "stream",
     "text": [
      "FINAL SINGLE POINT ENERGY       -75.775648427445\r\n",
      "FINAL SINGLE POINT ENERGY       -75.777039332221\r\n",
      "FINAL SINGLE POINT ENERGY       -75.777123331293\r\n",
      "FINAL SINGLE POINT ENERGY       -75.777148006512\r\n",
      "FINAL SINGLE POINT ENERGY       -75.777148108679\r\n"
     ]
    }
   ],
   "source": [
    "!grep 'FINAL SINGLE POINT ENERGY' output.out"
   ]
  },
  {
   "cell_type": "markdown",
   "metadata": {},
   "source": [
    "time?"
   ]
  },
  {
   "cell_type": "code",
   "execution_count": 17,
   "metadata": {
    "collapsed": false
   },
   "outputs": [
    {
     "name": "stdout",
     "output_type": "stream",
     "text": [
      "TOTAL RUN TIME: 0 days 0 hours 0 minutes 6 seconds 685 msec\r\n"
     ]
    }
   ],
   "source": [
    "!grep 'TOTAL RUN TIME:' output.out"
   ]
  },
  {
   "cell_type": "markdown",
   "metadata": {},
   "source": [
    "### Better yet, some Python magic\n",
    "For now a poor man's grep"
   ]
  },
  {
   "cell_type": "code",
   "execution_count": 18,
   "metadata": {
    "collapsed": false
   },
   "outputs": [],
   "source": [
    "def findStrings(afile,substr):\n",
    "    lines=[]\n",
    "    with open(afile) as astr:\n",
    "        for line in astr:\n",
    "            if substr in line:\n",
    "                 lines.append(line)\n",
    "    return lines"
   ]
  },
  {
   "cell_type": "code",
   "execution_count": 19,
   "metadata": {
    "collapsed": false
   },
   "outputs": [
    {
     "data": {
      "text/plain": [
       "['FINAL SINGLE POINT ENERGY       -75.775648427445\\n',\n",
       " 'FINAL SINGLE POINT ENERGY       -75.777039332221\\n',\n",
       " 'FINAL SINGLE POINT ENERGY       -75.777123331293\\n',\n",
       " 'FINAL SINGLE POINT ENERGY       -75.777148006512\\n',\n",
       " 'FINAL SINGLE POINT ENERGY       -75.777148108679\\n']"
      ]
     },
     "execution_count": 19,
     "metadata": {},
     "output_type": "execute_result"
    }
   ],
   "source": [
    "findStrings('output.out','FINAL SINGLE POINT ENERGY')"
   ]
  },
  {
   "cell_type": "code",
   "execution_count": 20,
   "metadata": {
    "collapsed": false
   },
   "outputs": [],
   "source": [
    "def findFinalEnergy(afile):\n",
    "    lines=[]\n",
    "    substr='FINAL SINGLE POINT ENERGY'\n",
    "    with open(afile) as astr:\n",
    "        for line in astr:\n",
    "            if substr in line:\n",
    "                tmpline=line.replace(substr,'').strip()\n",
    "                lines.append(float(tmpline))\n",
    "    return lines[-1]"
   ]
  },
  {
   "cell_type": "code",
   "execution_count": 21,
   "metadata": {
    "collapsed": false
   },
   "outputs": [
    {
     "data": {
      "text/plain": [
       "-75.777148108679"
      ]
     },
     "execution_count": 21,
     "metadata": {},
     "output_type": "execute_result"
    }
   ],
   "source": [
    "findFinalEnergy('output.out')"
   ]
  },
  {
   "cell_type": "markdown",
   "metadata": {},
   "source": [
    "#### Now computing time"
   ]
  },
  {
   "cell_type": "code",
   "execution_count": 22,
   "metadata": {
    "collapsed": false
   },
   "outputs": [],
   "source": [
    "def findComputeTime(afile):\n",
    "    timestr=''\n",
    "    substr='TOTAL RUN TIME:'\n",
    "    milisecs=0\n",
    "    # find string with time\n",
    "    with open(afile) as astr:\n",
    "        for line in astr:\n",
    "            if substr in line:\n",
    "                timestr=line.replace(substr,'').strip()\n",
    "    # there is probably a better way of doing this\n",
    "    timestr=timestr.split()\n",
    "    milisecs+=int(timestr[-2]) #milisecs\n",
    "    milisecs+=1000*int(timestr[-4]) #seconds\n",
    "    milisecs+=60000*int(timestr[-6]) #minutes\n",
    "    milisecs+=60*60*1000*int(timestr[-8]) #hours\n",
    "    milisecs+=24*60*60*1000*int(timestr[-10]) #days\n",
    "\n",
    "    return milisecs"
   ]
  },
  {
   "cell_type": "code",
   "execution_count": 23,
   "metadata": {
    "collapsed": false
   },
   "outputs": [
    {
     "data": {
      "text/plain": [
       "6685"
      ]
     },
     "execution_count": 23,
     "metadata": {},
     "output_type": "execute_result"
    }
   ],
   "source": [
    "findComputeTime('output.out')"
   ]
  },
  {
   "cell_type": "markdown",
   "metadata": {
    "collapsed": false
   },
   "source": [
    "### Also CCLIB\n",
    "From the website: http://cclib.github.io/\n",
    ">cclib is an open source library, written in Python, for parsing and interpreting the results of computational chemistry packages.\n",
    ">"
   ]
  },
  {
   "cell_type": "markdown",
   "metadata": {
    "collapsed": true
   },
   "source": [
    "## Wavefunction methods\n",
    "### Now to compute!\n",
    "\n",
    "\n",
    "We are interested in time, accuracy and cost.\n",
    "\n",
    "Explore the following methods:\n",
    "* PM3\n",
    "* Hartree Fock\n",
    "* MP2\n",
    "* CCSD\n",
    "* CCSD(T)\n",
    "* DLPNO-CCSD\n",
    "Use the basis set **cc-pVDZ**\n",
    "\n",
    "And save the energy and times in a dictionary"
   ]
  },
  {
   "cell_type": "code",
   "execution_count": 25,
   "metadata": {
    "collapsed": false
   },
   "outputs": [],
   "source": [
    "!orca input.inp > output.out"
   ]
  },
  {
   "cell_type": "code",
   "execution_count": 26,
   "metadata": {
    "collapsed": false,
    "scrolled": true
   },
   "outputs": [
    {
     "name": "stdout",
     "output_type": "stream",
     "text": [
      "\r\n",
      "\r\n",
      "Timings for individual modules:\r\n",
      "\r\n",
      "Sum of individual times         ...        1.266 sec (=   0.021 min)\r\n",
      "GTO integral calculation        ...        0.128 sec (=   0.002 min)  10.1 %\r\n",
      "SCF iterations                  ...        1.002 sec (=   0.017 min)  79.1 %\r\n",
      "MP2 module                      ...        0.137 sec (=   0.002 min)  10.8 %\r\n",
      "                             ****ORCA TERMINATED NORMALLY****\r\n",
      "TOTAL RUN TIME: 0 days 0 hours 0 minutes 1 seconds 355 msec\r\n"
     ]
    }
   ],
   "source": [
    "!tail output.out"
   ]
  },
  {
   "cell_type": "code",
   "execution_count": 58,
   "metadata": {
    "collapsed": true
   },
   "outputs": [],
   "source": [
    "from collections import OrderedDict\n",
    "energy = OrderedDict()\n",
    "time = OrderedDict()"
   ]
  },
  {
   "cell_type": "markdown",
   "metadata": {},
   "source": [
    "## One last trick!\n",
    "### Template text replacing for automatic input creation\n",
    "#### and calculation\n",
    "\n",
    "1. First we define a list of varying parameters within a input file\n",
    "2. Define a replace function, which takes a template text file and replaces all instances into a new file\n",
    "3. Iterate over each variable, create input and calculate!\n",
    "\n"
   ]
  },
  {
   "cell_type": "code",
   "execution_count": 29,
   "metadata": {
    "collapsed": false
   },
   "outputs": [],
   "source": [
    "methods=['PM3','HF','MP2','CCSD','CCSD(T)','DLPNO-CCSD']"
   ]
  },
  {
   "cell_type": "code",
   "execution_count": 30,
   "metadata": {
    "collapsed": false
   },
   "outputs": [],
   "source": [
    "def replace_all(astr, bstr, dict):\n",
    "    with open(astr, 'r') as afile:\n",
    "        with open(bstr, 'w') as bfile:\n",
    "            data = afile.read()\n",
    "            for key, value in dict.items():\n",
    "                data = data.replace(key, str(value))\n",
    "            bfile.write(data)\n",
    "    return"
   ]
  },
  {
   "cell_type": "code",
   "execution_count": 31,
   "metadata": {
    "collapsed": false
   },
   "outputs": [],
   "source": [
    "import os\n",
    "\n",
    "for method in methods:\n",
    "    replaceDict={\"#{METHOD}\":method}\n",
    "    replace_all('template_method.inp','input.inp', replaceDict)\n",
    "    os.system('orca input.inp > %s.out'%method)"
   ]
  },
  {
   "cell_type": "markdown",
   "metadata": {},
   "source": [
    "# Whoa!\n",
    "## you just calculated 50 years of quantum chemistry in a few minutes!\n",
    "### now plot energy and time for each method"
   ]
  },
  {
   "cell_type": "code",
   "execution_count": 59,
   "metadata": {
    "collapsed": false
   },
   "outputs": [],
   "source": [
    "methods=['HF','MP2','CCSD']\n",
    "for method in methods:\n",
    "    replaceDict={\"#{METHOD}\":method}\n",
    "    replace_all('template_method.inp','input.inp', replaceDict)\n",
    "    outFile='%s.out'%method\n",
    "    os.system('orca input.inp > %s'%outFile)\n",
    "    energy[method]=findFinalEnergy(outFile)\n",
    "    time[method]=findComputeTime(outFile)"
   ]
  },
  {
   "cell_type": "code",
   "execution_count": 36,
   "metadata": {
    "collapsed": false
   },
   "outputs": [
    {
     "data": {
      "text/plain": [
       "OrderedDict([('PM3', -596.679470069436), ('HF', -76.026723267945), ('MP2', -76.227611674261), ('CCSD', -76.237203049244)])"
      ]
     },
     "execution_count": 36,
     "metadata": {},
     "output_type": "execute_result"
    }
   ],
   "source": [
    "energy"
   ]
  },
  {
   "cell_type": "code",
   "execution_count": 41,
   "metadata": {
    "collapsed": false
   },
   "outputs": [
    {
     "data": {
      "text/plain": [
       "OrderedDict([('PM3', 337), ('HF', 1623), ('MP2', 487), ('CCSD', 696)])"
      ]
     },
     "execution_count": 41,
     "metadata": {},
     "output_type": "execute_result"
    }
   ],
   "source": [
    "time"
   ]
  },
  {
   "cell_type": "code",
   "execution_count": 62,
   "metadata": {
    "collapsed": false
   },
   "outputs": [
    {
     "data": {
      "text/plain": [
       "OrderedDict([('HF', -76.026723271909), ('MP2', -76.227611691149), ('CCSD', -76.237203049108)])"
      ]
     },
     "execution_count": 62,
     "metadata": {},
     "output_type": "execute_result"
    }
   ],
   "source": [
    "energy"
   ]
  },
  {
   "cell_type": "code",
   "execution_count": 61,
   "metadata": {
    "collapsed": false
   },
   "outputs": [
    {
     "name": "stdout",
     "output_type": "stream",
     "text": [
      "['HF', 'MP2', 'CCSD']\n"
     ]
    },
    {
     "data": {
      "image/png": "[encoded data removed]",
      "text/plain": [
       "<matplotlib.figure.Figure at 0x7fa2af806c50>"
      ]
     },
     "metadata": {},
     "output_type": "display_data"
    },
    {
     "data": {
      "image/png": "[encoded data removed]",
      "text/plain": [
       "<matplotlib.figure.Figure at 0x7fa2af7a9990>"
      ]
     },
     "metadata": {},
     "output_type": "display_data"
    }
   ],
   "source": [
    "import matplotlib.pyplot as plt\n",
    "%matplotlib inline \n",
    "\n",
    "print(methods)\n",
    "plt.title(\"time\")\n",
    "plt.bar([1,2,3],[val[1] for val in time.items()])\n",
    "plt.show()\n",
    "\n",
    "plt.title(\"energy\")\n",
    "plt.bar([1,2,3],[val[1] for val in energy.items()])\n",
    "plt.show()"
   ]
  },
  {
   "cell_type": "markdown",
   "metadata": {},
   "source": [
    "## DFT functionals\n",
    "\n",
    "DFT functionals more or less go across what is called Jacob's ladder:\n",
    "![](images/jacobladderextra.png)"
   ]
  },
  {
   "cell_type": "markdown",
   "metadata": {},
   "source": [
    "### Now try one function of each class:\n",
    "\n",
    "* Local\n",
    "* Gradient corrected (GGA)\n",
    "* Meta GGA\n",
    "* Hybrid or hybrid meta GGA\n",
    "* Perturbatively corrected double hybrid\n",
    "\n",
    "Plot compute time and energy"
   ]
  },
  {
   "cell_type": "code",
   "execution_count": 68,
   "metadata": {
    "collapsed": true
   },
   "outputs": [],
   "source": [
    "!orca input.inp > output.out"
   ]
  },
  {
   "cell_type": "code",
   "execution_count": 67,
   "metadata": {
    "collapsed": false,
    "scrolled": true
   },
   "outputs": [
    {
     "name": "stdout",
     "output_type": "stream",
     "text": [
      "\r\n",
      "\r\n",
      "                            ***************************************\r\n",
      "                            *     ORCA property calculations      *\r\n",
      "                            ***************************************\r\n",
      "\r\n",
      "\r\n",
      "  WARNING: The energy has been calculated at the MP2 level but the densities\r\n",
      "           used in the property calculations are still SCF densities\r\n",
      "           MP2 response densities have not been calculated \r\n",
      "           use %mp2 Density relaxed end\r\n",
      "           or  %mp2 Density unrelaxed end\r\n",
      "\r\n",
      "                                    ---------------------\r\n",
      "                                    Active property flags\r\n",
      "                                    ---------------------\r\n",
      "   (+) Dipole Moment\r\n",
      "\r\n",
      "\r\n",
      "------------------------------------------------------------------------------\r\n",
      "                       ORCA ELECTRIC PROPERTIES CALCULATION\r\n",
      "------------------------------------------------------------------------------\r\n",
      "\r\n",
      "Dipole Moment Calculation                       ... on\r\n",
      "Quadrupole Moment Calculation                   ... off\r\n",
      "Polarizability Calculation                      ... off\r\n",
      "GBWName                                         ... input.gbw\r\n",
      "Electron density file                           ... input.scfp.tmp\r\n",
      "\r\n",
      "-------------\r\n",
      "DIPOLE MOMENT\r\n",
      "-------------\r\n",
      "                                X             Y             Z\r\n",
      "Electronic contribution:      0.07072       0.01416      -0.16333\r\n",
      "Nuclear contribution   :     -0.36939      -0.07487       0.85448\r\n",
      "                        -----------------------------------------\r\n",
      "Total Dipole Moment    :     -0.29867      -0.06071       0.69115\r\n",
      "                        -----------------------------------------\r\n",
      "Magnitude (a.u.)       :      0.75537\r\n",
      "Magnitude (Debye)      :      1.91999\r\n",
      "\r\n",
      "\r\n",
      "Timings for individual modules:\r\n",
      "\r\n",
      "Sum of individual times         ...        1.069 sec (=   0.018 min)\r\n",
      "GTO integral calculation        ...        0.124 sec (=   0.002 min)  11.6 %\r\n",
      "SCF iterations                  ...        0.815 sec (=   0.014 min)  76.2 %\r\n",
      "MP2 module                      ...        0.131 sec (=   0.002 min)  12.2 %\r\n",
      "                             ****ORCA TERMINATED NORMALLY****\r\n",
      "TOTAL RUN TIME: 0 days 0 hours 0 minutes 1 seconds 157 msec\r\n"
     ]
    }
   ],
   "source": [
    "!tail -50 output.out"
   ]
  },
  {
   "cell_type": "markdown",
   "metadata": {},
   "source": [
    "## extra: Basis set effects\n",
    "### with wavefunctions\n",
    "\n",
    "Compute using your favorite wavefunction method the following basis set:\n",
    "* cc-pVDZ\n",
    "* cc-pVTZ\n",
    "* cc-pVQZ\n",
    "* cc-pV5Z"
   ]
  },
  {
   "cell_type": "code",
   "execution_count": null,
   "metadata": {
    "collapsed": true
   },
   "outputs": [],
   "source": []
  },
  {
   "cell_type": "markdown",
   "metadata": {},
   "source": [
    "### with DFT\n",
    "Compute using your favorite functional method the following basis set:\n",
    "* Def2-SV\n",
    "* Def2-QDVP\n",
    "* Def2-TZV\n",
    "* Def2-QZVP"
   ]
  },
  {
   "cell_type": "code",
   "execution_count": null,
   "metadata": {
    "collapsed": true
   },
   "outputs": [],
   "source": []
  },
  {
   "cell_type": "markdown",
   "metadata": {
    "collapsed": false
   },
   "source": [
    "## finally..\n",
    "So now you know how to do a massive number of calculations, It might feel a bit mechanistic sometimes.. so it's good to remember\n",
    "> \n",
    "\"..Computers don‘t solve problems - people do!“\n",
    "> - Ernest R Davidson\n"
   ]
  }
 ],
 "metadata": {
  "kernelspec": {
   "display_name": "Python 2",
   "language": "python",
   "name": "python2"
  },
  "language_info": {
   "codemirror_mode": {
    "name": "ipython",
    "version": 2
   },
   "file_extension": ".py",
   "mimetype": "text/x-python",
   "name": "python",
   "nbconvert_exporter": "python",
   "pygments_lexer": "ipython2",
   "version": "2.7.9"
  }
 },
 "nbformat": 4,
 "nbformat_minor": 0
}
